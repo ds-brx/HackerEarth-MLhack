{
 "metadata": {
  "language_info": {
   "codemirror_mode": {
    "name": "ipython",
    "version": 3
   },
   "file_extension": ".py",
   "mimetype": "text/x-python",
   "name": "python",
   "nbconvert_exporter": "python",
   "pygments_lexer": "ipython3",
   "version": "3.8.5-final"
  },
  "orig_nbformat": 2,
  "kernelspec": {
   "name": "python3",
   "display_name": "Python 3",
   "language": "python"
  }
 },
 "nbformat": 4,
 "nbformat_minor": 2,
 "cells": [
  {
   "source": [
    "<H1>PRICE PREDICTION OF PRODUCTS: HACKEREARTH HACKATHON</H1><BR>SUBMISSION-1:EXTRA TREE REGRESSOR <BR>NO GRID SEARCH<BR>NO VISUALS"
   ],
   "cell_type": "markdown",
   "metadata": {}
  },
  {
   "cell_type": "code",
   "execution_count": 1,
   "metadata": {},
   "outputs": [],
   "source": [
    "import numpy as np \n",
    "import pandas as pd \n",
    "\n",
    "import seaborn as sns\n",
    "import matplotlib as mpl\n",
    "import matplotlib.pyplot as plt\n",
    "import matplotlib.pylab as pylab\n",
    "%matplotlib inline\n",
    "mpl.style.use('ggplot')\n",
    "sns.set_style('white')\n",
    "pylab.rcParams['figure.figsize'] = 12,8\n",
    "\n",
    "from sklearn.preprocessing import OneHotEncoder, LabelEncoder\n",
    "from sklearn import feature_selection\n",
    "from sklearn import model_selection\n",
    "from sklearn import metrics\n",
    "from sklearn.metrics import mean_absolute_error\n",
    "from sklearn.metrics import mean_squared_log_error\n",
    "from sklearn.model_selection import train_test_split\n",
    "\n",
    "from sklearn import svm,tree,linear_model,naive_bayes,ensemble,gaussian_process,neighbors\n",
    "from lightgbm import LGBMRegressor\n",
    "from xgboost import XGBRegressor\n",
    "\n",
    "from sklearn.model_selection import GridSearchCV\n",
    "from sklearn.model_selection import RepeatedKFold\n",
    "from sklearn.model_selection import cross_val_score\n",
    "from sklearn.model_selection import RepeatedStratifiedKFold\n",
    "\n"
   ]
  },
  {
   "cell_type": "code",
   "execution_count": 2,
   "metadata": {},
   "outputs": [
    {
     "output_type": "stream",
     "name": "stdout",
     "text": [
      "<class 'pandas.core.frame.DataFrame'>\nRangeIndex: 6368 entries, 0 to 6367\nData columns (total 15 columns):\n #   Column            Non-Null Count  Dtype  \n---  ------            --------------  -----  \n 0   Product_id        6368 non-null   object \n 1   Stall_no          6363 non-null   float64\n 2   instock_date      6368 non-null   object \n 3   Market_Category   6368 non-null   int64  \n 4   Customer_name     6157 non-null   object \n 5   Loyalty_customer  6368 non-null   object \n 6   Product_Category  6368 non-null   object \n 7   Grade             6368 non-null   int64  \n 8   Demand            6368 non-null   int64  \n 9   Discount_avail    6330 non-null   float64\n 10  charges_1         6170 non-null   float64\n 11  charges_2 (%)     6163 non-null   float64\n 12  Minimum_price     6330 non-null   float64\n 13  Maximum_price     6025 non-null   float64\n 14  Selling_Price     6327 non-null   float64\ndtypes: float64(7), int64(3), object(5)\nmemory usage: 746.4+ KB\n<class 'pandas.core.frame.DataFrame'>\nRangeIndex: 3430 entries, 0 to 3429\nData columns (total 14 columns):\n #   Column            Non-Null Count  Dtype  \n---  ------            --------------  -----  \n 0   Product_id        3430 non-null   object \n 1   Stall_no          3429 non-null   float64\n 2   instock_date      3430 non-null   object \n 3   Market_Category   3430 non-null   int64  \n 4   Customer_name     3377 non-null   object \n 5   Loyalty_customer  3430 non-null   object \n 6   Product_Category  3430 non-null   object \n 7   Grade             3430 non-null   int64  \n 8   Demand            3430 non-null   int64  \n 9   Discount_avail    3430 non-null   int64  \n 10  charges_1         3394 non-null   float64\n 11  charges_2 (%)     3425 non-null   float64\n 12  Minimum_price     3416 non-null   float64\n 13  Maximum_price     3430 non-null   int64  \ndtypes: float64(4), int64(5), object(5)\nmemory usage: 375.3+ KB\n"
     ]
    }
   ],
   "source": [
    "train_data = pd.read_csv(\"train.csv\")\n",
    "test_data = pd.read_csv(\"test.csv\")\n",
    "train_data.info()\n",
    "test_data.info()"
   ]
  },
  {
   "cell_type": "code",
   "execution_count": 3,
   "metadata": {},
   "outputs": [
    {
     "output_type": "execute_result",
     "data": {
      "text/plain": [
       "         Product_id  Stall_no             instock_date  Market_Category  \\\n",
       "0  BRAE2NF6JA5GUEXG      37.0  2015-08-22 18:36:12.000                2   \n",
       "1  TUNE8SFB6RJN2HSD      38.0  2016-03-27 21:19:13.000               24   \n",
       "2  BRAEAR7WZPQGPBZU       9.0  2015-08-18 19:25:22.000              447   \n",
       "3  WATDZ2ZQ8JPDHCTJ      50.0  2016-03-28 21:53:01.000               23   \n",
       "4  JWSEBUKYQPMBZ3RK       7.0  2016-03-29 22:58:53.000               63   \n",
       "\n",
       "  Customer_name Loyalty_customer Product_Category  Grade  Demand  \\\n",
       "0      Lillyann              Yes          Fashion      1      68   \n",
       "1         Klynn              Yes          Fashion      0      51   \n",
       "2         Ridge              Yes       Child_care      0      10   \n",
       "3         Abran              Yes      Educational      2      48   \n",
       "4        Dustyn              Yes           Repair      1      35   \n",
       "\n",
       "   Discount_avail  charges_1  charges_2 (%)  Minimum_price  Maximum_price  \\\n",
       "0             0.0      376.0           11.0         2983.0         4713.0   \n",
       "1             0.0      397.0           12.0         7495.0        10352.0   \n",
       "2             0.0      250.0            9.0         5752.0         7309.0   \n",
       "3             0.0      144.0           13.0         5090.0        20814.0   \n",
       "4             1.0      211.0            4.0         2430.0         9261.0   \n",
       "\n",
       "   Selling_Price  \n",
       "0    4185.947700  \n",
       "1    9271.490256  \n",
       "2    6785.701362  \n",
       "3   13028.917824  \n",
       "4     906.553935  "
      ],
      "text/html": "<div>\n<style scoped>\n    .dataframe tbody tr th:only-of-type {\n        vertical-align: middle;\n    }\n\n    .dataframe tbody tr th {\n        vertical-align: top;\n    }\n\n    .dataframe thead th {\n        text-align: right;\n    }\n</style>\n<table border=\"1\" class=\"dataframe\">\n  <thead>\n    <tr style=\"text-align: right;\">\n      <th></th>\n      <th>Product_id</th>\n      <th>Stall_no</th>\n      <th>instock_date</th>\n      <th>Market_Category</th>\n      <th>Customer_name</th>\n      <th>Loyalty_customer</th>\n      <th>Product_Category</th>\n      <th>Grade</th>\n      <th>Demand</th>\n      <th>Discount_avail</th>\n      <th>charges_1</th>\n      <th>charges_2 (%)</th>\n      <th>Minimum_price</th>\n      <th>Maximum_price</th>\n      <th>Selling_Price</th>\n    </tr>\n  </thead>\n  <tbody>\n    <tr>\n      <th>0</th>\n      <td>BRAE2NF6JA5GUEXG</td>\n      <td>37.0</td>\n      <td>2015-08-22 18:36:12.000</td>\n      <td>2</td>\n      <td>Lillyann</td>\n      <td>Yes</td>\n      <td>Fashion</td>\n      <td>1</td>\n      <td>68</td>\n      <td>0.0</td>\n      <td>376.0</td>\n      <td>11.0</td>\n      <td>2983.0</td>\n      <td>4713.0</td>\n      <td>4185.947700</td>\n    </tr>\n    <tr>\n      <th>1</th>\n      <td>TUNE8SFB6RJN2HSD</td>\n      <td>38.0</td>\n      <td>2016-03-27 21:19:13.000</td>\n      <td>24</td>\n      <td>Klynn</td>\n      <td>Yes</td>\n      <td>Fashion</td>\n      <td>0</td>\n      <td>51</td>\n      <td>0.0</td>\n      <td>397.0</td>\n      <td>12.0</td>\n      <td>7495.0</td>\n      <td>10352.0</td>\n      <td>9271.490256</td>\n    </tr>\n    <tr>\n      <th>2</th>\n      <td>BRAEAR7WZPQGPBZU</td>\n      <td>9.0</td>\n      <td>2015-08-18 19:25:22.000</td>\n      <td>447</td>\n      <td>Ridge</td>\n      <td>Yes</td>\n      <td>Child_care</td>\n      <td>0</td>\n      <td>10</td>\n      <td>0.0</td>\n      <td>250.0</td>\n      <td>9.0</td>\n      <td>5752.0</td>\n      <td>7309.0</td>\n      <td>6785.701362</td>\n    </tr>\n    <tr>\n      <th>3</th>\n      <td>WATDZ2ZQ8JPDHCTJ</td>\n      <td>50.0</td>\n      <td>2016-03-28 21:53:01.000</td>\n      <td>23</td>\n      <td>Abran</td>\n      <td>Yes</td>\n      <td>Educational</td>\n      <td>2</td>\n      <td>48</td>\n      <td>0.0</td>\n      <td>144.0</td>\n      <td>13.0</td>\n      <td>5090.0</td>\n      <td>20814.0</td>\n      <td>13028.917824</td>\n    </tr>\n    <tr>\n      <th>4</th>\n      <td>JWSEBUKYQPMBZ3RK</td>\n      <td>7.0</td>\n      <td>2016-03-29 22:58:53.000</td>\n      <td>63</td>\n      <td>Dustyn</td>\n      <td>Yes</td>\n      <td>Repair</td>\n      <td>1</td>\n      <td>35</td>\n      <td>1.0</td>\n      <td>211.0</td>\n      <td>4.0</td>\n      <td>2430.0</td>\n      <td>9261.0</td>\n      <td>906.553935</td>\n    </tr>\n  </tbody>\n</table>\n</div>"
     },
     "metadata": {},
     "execution_count": 3
    }
   ],
   "source": [
    "train_data.head()"
   ]
  },
  {
   "cell_type": "code",
   "execution_count": 4,
   "metadata": {},
   "outputs": [],
   "source": [
    "for data in [train_data, test_data]:\n",
    "    data['instock_date'] = data['instock_date'].str.split(\" \", n=1,expand = True)[0]\n",
    "    data['instock_date'] = pd.to_datetime(data['instock_date'])\n",
    "    data['instock_year'] = data['instock_date'].dt.year"
   ]
  },
  {
   "cell_type": "code",
   "execution_count": 5,
   "metadata": {},
   "outputs": [
    {
     "output_type": "execute_result",
     "data": {
      "text/plain": [
       "         Product_id Product_Category  Grade  Discount_avail  charges_1  \\\n",
       "0  BRAE2NF6JA5GUEXG          Fashion      1             0.0      376.0   \n",
       "1  TUNE8SFB6RJN2HSD          Fashion      0             0.0      397.0   \n",
       "2  BRAEAR7WZPQGPBZU       Child_care      0             0.0      250.0   \n",
       "3  WATDZ2ZQ8JPDHCTJ      Educational      2             0.0      144.0   \n",
       "4  JWSEBUKYQPMBZ3RK           Repair      1             1.0      211.0   \n",
       "\n",
       "   charges_2 (%)  Minimum_price  Maximum_price  Selling_Price  instock_year  \\\n",
       "0           11.0         2983.0         4713.0    4185.947700          2015   \n",
       "1           12.0         7495.0        10352.0    9271.490256          2016   \n",
       "2            9.0         5752.0         7309.0    6785.701362          2015   \n",
       "3           13.0         5090.0        20814.0   13028.917824          2016   \n",
       "4            4.0         2430.0         9261.0     906.553935          2016   \n",
       "\n",
       "   Child_care  Cosmetics  Educational  Fashion  Home_decor  Hospitality  \\\n",
       "0           0          0            0        1           0            0   \n",
       "1           0          0            0        1           0            0   \n",
       "2           1          0            0        0           0            0   \n",
       "3           0          0            1        0           0            0   \n",
       "4           0          0            0        0           0            0   \n",
       "\n",
       "   Organic  Pet_care  Repair  Technology  \n",
       "0        0         0       0           0  \n",
       "1        0         0       0           0  \n",
       "2        0         0       0           0  \n",
       "3        0         0       0           0  \n",
       "4        0         0       1           0  "
      ],
      "text/html": "<div>\n<style scoped>\n    .dataframe tbody tr th:only-of-type {\n        vertical-align: middle;\n    }\n\n    .dataframe tbody tr th {\n        vertical-align: top;\n    }\n\n    .dataframe thead th {\n        text-align: right;\n    }\n</style>\n<table border=\"1\" class=\"dataframe\">\n  <thead>\n    <tr style=\"text-align: right;\">\n      <th></th>\n      <th>Product_id</th>\n      <th>Product_Category</th>\n      <th>Grade</th>\n      <th>Discount_avail</th>\n      <th>charges_1</th>\n      <th>charges_2 (%)</th>\n      <th>Minimum_price</th>\n      <th>Maximum_price</th>\n      <th>Selling_Price</th>\n      <th>instock_year</th>\n      <th>Child_care</th>\n      <th>Cosmetics</th>\n      <th>Educational</th>\n      <th>Fashion</th>\n      <th>Home_decor</th>\n      <th>Hospitality</th>\n      <th>Organic</th>\n      <th>Pet_care</th>\n      <th>Repair</th>\n      <th>Technology</th>\n    </tr>\n  </thead>\n  <tbody>\n    <tr>\n      <th>0</th>\n      <td>BRAE2NF6JA5GUEXG</td>\n      <td>Fashion</td>\n      <td>1</td>\n      <td>0.0</td>\n      <td>376.0</td>\n      <td>11.0</td>\n      <td>2983.0</td>\n      <td>4713.0</td>\n      <td>4185.947700</td>\n      <td>2015</td>\n      <td>0</td>\n      <td>0</td>\n      <td>0</td>\n      <td>1</td>\n      <td>0</td>\n      <td>0</td>\n      <td>0</td>\n      <td>0</td>\n      <td>0</td>\n      <td>0</td>\n    </tr>\n    <tr>\n      <th>1</th>\n      <td>TUNE8SFB6RJN2HSD</td>\n      <td>Fashion</td>\n      <td>0</td>\n      <td>0.0</td>\n      <td>397.0</td>\n      <td>12.0</td>\n      <td>7495.0</td>\n      <td>10352.0</td>\n      <td>9271.490256</td>\n      <td>2016</td>\n      <td>0</td>\n      <td>0</td>\n      <td>0</td>\n      <td>1</td>\n      <td>0</td>\n      <td>0</td>\n      <td>0</td>\n      <td>0</td>\n      <td>0</td>\n      <td>0</td>\n    </tr>\n    <tr>\n      <th>2</th>\n      <td>BRAEAR7WZPQGPBZU</td>\n      <td>Child_care</td>\n      <td>0</td>\n      <td>0.0</td>\n      <td>250.0</td>\n      <td>9.0</td>\n      <td>5752.0</td>\n      <td>7309.0</td>\n      <td>6785.701362</td>\n      <td>2015</td>\n      <td>1</td>\n      <td>0</td>\n      <td>0</td>\n      <td>0</td>\n      <td>0</td>\n      <td>0</td>\n      <td>0</td>\n      <td>0</td>\n      <td>0</td>\n      <td>0</td>\n    </tr>\n    <tr>\n      <th>3</th>\n      <td>WATDZ2ZQ8JPDHCTJ</td>\n      <td>Educational</td>\n      <td>2</td>\n      <td>0.0</td>\n      <td>144.0</td>\n      <td>13.0</td>\n      <td>5090.0</td>\n      <td>20814.0</td>\n      <td>13028.917824</td>\n      <td>2016</td>\n      <td>0</td>\n      <td>0</td>\n      <td>1</td>\n      <td>0</td>\n      <td>0</td>\n      <td>0</td>\n      <td>0</td>\n      <td>0</td>\n      <td>0</td>\n      <td>0</td>\n    </tr>\n    <tr>\n      <th>4</th>\n      <td>JWSEBUKYQPMBZ3RK</td>\n      <td>Repair</td>\n      <td>1</td>\n      <td>1.0</td>\n      <td>211.0</td>\n      <td>4.0</td>\n      <td>2430.0</td>\n      <td>9261.0</td>\n      <td>906.553935</td>\n      <td>2016</td>\n      <td>0</td>\n      <td>0</td>\n      <td>0</td>\n      <td>0</td>\n      <td>0</td>\n      <td>0</td>\n      <td>0</td>\n      <td>0</td>\n      <td>1</td>\n      <td>0</td>\n    </tr>\n  </tbody>\n</table>\n</div>"
     },
     "metadata": {},
     "execution_count": 5
    }
   ],
   "source": [
    "full_data = [train_data, test_data]\n",
    "for data in full_data:\n",
    "    data.drop(['Customer_name', 'Loyalty_customer','Stall_no', 'Market_Category', 'Demand','instock_date'], inplace = True, axis = 1)\n",
    "    \n",
    "Product_Category_encoded = pd.get_dummies(train_data['Product_Category'])\n",
    "train_data = pd.concat([train_data,Product_Category_encoded], axis = 1)\n",
    "Product_Category_encoded = pd.get_dummies(test_data['Product_Category'])\n",
    "test_data = pd.concat([test_data,Product_Category_encoded], axis = 1)\n",
    "train_data.head()"
   ]
  },
  {
   "cell_type": "code",
   "execution_count": 6,
   "metadata": {},
   "outputs": [
    {
     "output_type": "stream",
     "name": "stdout",
     "text": [
      "Product_id : 0\nProduct_Category : 0\nGrade : 0\nDiscount_avail : 38\ncharges_1 : 198\ncharges_2 (%) : 205\nMinimum_price : 38\nMaximum_price : 343\nSelling_Price : 41\ninstock_year : 0\n------------------------------\nProduct_id : 0\nProduct_Category : 0\nGrade : 0\nDiscount_avail : 0\ncharges_1 : 36\ncharges_2 (%) : 5\nMinimum_price : 14\nMaximum_price : 0\ninstock_year : 0\n------------------------------\nDiscount_avail\nChild_care:  6\nCosmetics:  2\nEducational:  5\nFashion:  4\nHome_decor:  5\nHospitality:  6\nOrganic:  2\nPet_care:  0\nRepair:  6\nTechnology:  2\n----------------------\ncharges_1\nChild_care:  18\nCosmetics:  14\nEducational:  17\nFashion:  25\nHome_decor:  29\nHospitality:  22\nOrganic:  13\nPet_care:  15\nRepair:  23\nTechnology:  22\n----------------------\ncharges_2 (%)\nChild_care:  20\nCosmetics:  26\nEducational:  16\nFashion:  19\nHome_decor:  22\nHospitality:  23\nOrganic:  23\nPet_care:  22\nRepair:  23\nTechnology:  11\n----------------------\nMinimum_price\nChild_care:  2\nCosmetics:  2\nEducational:  5\nFashion:  2\nHome_decor:  4\nHospitality:  2\nOrganic:  8\nPet_care:  4\nRepair:  5\nTechnology:  4\n----------------------\nMaximum_price\nChild_care:  42\nCosmetics:  32\nEducational:  35\nFashion:  36\nHome_decor:  27\nHospitality:  35\nOrganic:  22\nPet_care:  29\nRepair:  40\nTechnology:  45\n----------------------\n=========================\nDiscount_avail\nChild_care:  0\nCosmetics:  0\nEducational:  0\nFashion:  0\nHome_decor:  0\nHospitality:  0\nOrganic:  0\nPet_care:  0\nRepair:  0\nTechnology:  0\n----------------------\ncharges_1\nChild_care:  5\nCosmetics:  5\nEducational:  5\nFashion:  5\nHome_decor:  5\nHospitality:  1\nOrganic:  2\nPet_care:  0\nRepair:  4\nTechnology:  4\n----------------------\ncharges_2 (%)\nChild_care:  0\nCosmetics:  1\nEducational:  1\nFashion:  0\nHome_decor:  0\nHospitality:  1\nOrganic:  2\nPet_care:  0\nRepair:  0\nTechnology:  0\n----------------------\nMinimum_price\nChild_care:  1\nCosmetics:  1\nEducational:  1\nFashion:  1\nHome_decor:  3\nHospitality:  0\nOrganic:  2\nPet_care:  1\nRepair:  3\nTechnology:  1\n----------------------\nMaximum_price\nChild_care:  0\nCosmetics:  0\nEducational:  0\nFashion:  0\nHome_decor:  0\nHospitality:  0\nOrganic:  0\nPet_care:  0\nRepair:  0\nTechnology:  0\n----------------------\n=========================\n"
     ]
    }
   ],
   "source": [
    "for data in full_data:\n",
    "    for x in data.columns:\n",
    "        print(\"{col} : {val}\".format(col = x, val = data[x].isna().sum()))\n",
    "    print('-'*30)\n",
    "\n",
    "listProd = ['Child_care','Cosmetics', 'Educational','Fashion','Home_decor',\t'Hospitality',\t'Organic',\t'Pet_care',\t'Repair','Technology']\n",
    "nullCols = ['Discount_avail','charges_1','charges_2 (%)','Minimum_price','Maximum_price']\n",
    "for data in full_data:\n",
    "    for y in nullCols:\n",
    "        print(y)\n",
    "        for x in listProd:\n",
    "            print('{col}:  {val}'.format(col = x, val=(data['Product_Category'].loc[data[y].isna()] ==x).sum()))\n",
    "        print('----------------------')\n",
    "    print('=========================')\n",
    "\n",
    "\n"
   ]
  },
  {
   "cell_type": "code",
   "execution_count": 7,
   "metadata": {},
   "outputs": [
    {
     "output_type": "stream",
     "name": "stdout",
     "text": [
      "1.0\n",
      "1.0\n",
      "1.0\n",
      "1.0\n",
      "1.0\n",
      "1.0\n",
      "1.0\n",
      "1.0\n",
      "1.0\n",
      "1.0\n",
      "0\n",
      "298.6828125\n",
      "248.92598425196852\n",
      "135.96964586846542\n",
      "374.43696027633854\n",
      "250.85544217687075\n",
      "274.77868852459017\n",
      "124.66227347611202\n",
      "150.3433283358321\n",
      "247.7488514548239\n",
      "556.1053511705686\n",
      "0\n",
      "10.938871473354231\n",
      "14.669341894060995\n",
      "10.877104377104377\n",
      "13.822222222222223\n",
      "13.53109243697479\n",
      "9.399014778325123\n",
      "6.971524288107203\n",
      "6.054545454545455\n",
      "4.989280245022971\n",
      "10.960591133004925\n",
      "0\n",
      "3565.2591463414633\n",
      "3582.3137557959813\n",
      "3411.1355371900827\n",
      "3583.6976744186045\n",
      "3534.022838499184\n",
      "3496.831746031746\n",
      "3396.6013071895427\n",
      "3604.626843657817\n",
      "3557.6140089418777\n",
      "3565.8733766233768\n",
      "0\n",
      "6556.631493506494\n",
      "6601.755267423015\n",
      "6134.445217391304\n",
      "6558.836267605634\n",
      "6448.645762711864\n",
      "6452.817420435511\n",
      "6355.725752508361\n",
      "6436.376722817764\n",
      "6477.858490566037\n",
      "6279.246956521739\n",
      "0\n",
      "==============================\n",
      "1.0\n",
      "1.0\n",
      "1.0\n",
      "1.0\n",
      "1.0\n",
      "1.0\n",
      "1.0\n",
      "1.0\n",
      "1.0\n",
      "1.0\n",
      "0\n",
      "267.4254658385093\n",
      "265.88338192419826\n",
      "259.43913532863417\n",
      "264.6269113149847\n",
      "268.2012332343145\n",
      "255.8467158291888\n",
      "270.0592234110982\n",
      "265.9632402153553\n",
      "270.48116344752185\n",
      "265.75087392620645\n",
      "0\n",
      "10.92\n",
      "10.620991253644315\n",
      "10.082822085889571\n",
      "10.556771314797695\n",
      "11.060518731988473\n",
      "9.985337243401759\n",
      "9.994160397806962\n",
      "10.391184573002755\n",
      "10.346569849182004\n",
      "10.420245398773005\n",
      "0\n",
      "3618.637770897833\n",
      "3374.190058479532\n",
      "3418.9846153846156\n",
      "3502.2269938650306\n",
      "3469.8526011560693\n",
      "3567.475073313783\n",
      "3366.576811594203\n",
      "3444.1309863324436\n",
      "3326.7447916666665\n",
      "3376.0723846405604\n",
      "0\n",
      "6171.457055214724\n",
      "6104.609329446064\n",
      "6264.561349693252\n",
      "6223.707317073171\n",
      "6024.677233429395\n",
      "6505.489736070381\n",
      "6125.791907514451\n",
      "6157.641873278237\n",
      "6358.026041666667\n",
      "6405.736196319019\n",
      "0\n",
      "==============================\n",
      "4629.952243684355\n",
      "4522.018398825972\n",
      "4292.141616374378\n",
      "4865.215485462832\n",
      "4564.95842241623\n",
      "4498.088247755754\n",
      "4337.370473857281\n",
      "4631.992957983904\n",
      "4622.356120060526\n",
      "4849.770132747891\n",
      "0\n",
      "Total Null Values in the training dataset = Product_id          0\n",
      "Product_Category    0\n",
      "Grade               0\n",
      "Discount_avail      0\n",
      "charges_1           0\n",
      "charges_2 (%)       0\n",
      "Minimum_price       0\n",
      "Maximum_price       0\n",
      "Selling_Price       0\n",
      "instock_year        0\n",
      "Child_care          0\n",
      "Cosmetics           0\n",
      "Educational         0\n",
      "Fashion             0\n",
      "Home_decor          0\n",
      "Hospitality         0\n",
      "Organic             0\n",
      "Pet_care            0\n",
      "Repair              0\n",
      "Technology          0\n",
      "dtype: int64\n",
      "Total Null Values in the testing dataset = Product_id          0\n",
      "Product_Category    0\n",
      "Grade               0\n",
      "Discount_avail      0\n",
      "charges_1           0\n",
      "charges_2 (%)       0\n",
      "Minimum_price       0\n",
      "Maximum_price       0\n",
      "instock_year        0\n",
      "Child_care          0\n",
      "Cosmetics           0\n",
      "Educational         0\n",
      "Fashion             0\n",
      "Home_decor          0\n",
      "Hospitality         0\n",
      "Organic             0\n",
      "Pet_care            0\n",
      "Repair              0\n",
      "Technology          0\n",
      "dtype: int64\n"
     ]
    }
   ],
   "source": [
    "\n",
    "data_full = [train_data,test_data]\n",
    "for data in data_full:\n",
    "    for y in ['Discount_avail','charges_1','charges_2 (%)','Minimum_price','Maximum_price']:\n",
    "        for x in ['Child_care','Cosmetics', 'Educational','Fashion','Home_decor',\t'Hospitality',\t'Organic',\t'Pet_care','Repair','Technology']:\n",
    "            mean = data.loc[(data[y] > 0) & (train_data['Product_Category'] == x), y].mean()\n",
    "            data.loc[(data[y].isna()) & (data['Product_Category'] == x), y] = mean\n",
    "            print(mean)\n",
    "        print (data[y].isna().sum())\n",
    "    print(\"=\"*30)\n",
    "\n",
    "data = train_data\n",
    "y = 'Selling_Price'\n",
    "for x in ['Child_care','Cosmetics', 'Educational','Fashion','Home_decor',\t'Hospitality',\t'Organic',\t'Pet_care','Repair','Technology']:\n",
    "       mean = data.loc[(data[y] > 0) & (train_data['Product_Category'] == x), y].mean()\n",
    "       data.loc[(data[y].isna()) & (data['Product_Category'] == x), y] = mean\n",
    "       print(mean)\n",
    "print (data[y].isna().sum())\n",
    "print(\"Total Null Values in the training dataset = {val}\".format(val = train_data.isna().sum() ))\n",
    "print(\"Total Null Values in the testing dataset = {val}\".format(val = test_data.isna().sum() ))\n",
    "   "
   ]
  },
  {
   "cell_type": "code",
   "execution_count": 8,
   "metadata": {},
   "outputs": [],
   "source": [
    "train_data = train_data[train_data['Selling_Price']>0]\n",
    "features = ['Grade', 'Discount_avail',\n",
    "       'charges_1', 'charges_2 (%)', 'Minimum_price', 'Maximum_price',\n",
    "       'instock_year', 'Child_care', 'Cosmetics',\n",
    "       'Educational', 'Fashion', 'Home_decor', 'Hospitality', 'Organic',\n",
    "       'Pet_care', 'Repair', 'Technology']\n",
    "X = train_data[features]\n",
    "y = train_data['Selling_Price']\n",
    "X_train,X_test, y_train, y_test = train_test_split(X, y, test_size=0.33, random_state=42)"
   ]
  },
  {
   "cell_type": "code",
   "execution_count": 9,
   "metadata": {},
   "outputs": [],
   "source": [
    "from sklearn.metrics import mean_squared_log_error\n",
    "def RMSLE(y_true:np.ndarray, y_pred:np.ndarray) -> np.float64:\n",
    "    return np.sqrt(mean_squared_log_error(y_true, y_pred))"
   ]
  },
  {
   "cell_type": "code",
   "execution_count": 10,
   "metadata": {},
   "outputs": [],
   "source": [
    "MLA = [\n",
    "    #Ensemble Methods\n",
    "    ensemble.AdaBoostRegressor(),\n",
    "    ensemble.BaggingRegressor(),\n",
    "    ensemble.ExtraTreesRegressor(),\n",
    "    ensemble.GradientBoostingRegressor(),\n",
    "    ensemble.RandomForestRegressor(),\n",
    "\n",
    "    #Gaussian Processes\n",
    "    gaussian_process.GaussianProcessRegressor(),\n",
    "    \n",
    "    #GLM\n",
    "    linear_model.LinearRegression(),\n",
    "    linear_model.PassiveAggressiveRegressor(),\n",
    "    linear_model.Ridge(),\n",
    "    linear_model.RidgeCV(),\n",
    "    linear_model.SGDRegressor(),\n",
    "    linear_model.BayesianRidge(),\n",
    "    \n",
    "    #Nearest Neighbor\n",
    "    neighbors.KNeighborsRegressor(),\n",
    "      \n",
    "    tree.DecisionTreeRegressor(),\n",
    "    tree.ExtraTreeRegressor(),\n",
    "    \n",
    "     XGBRegressor(),\n",
    "     LGBMRegressor()    \n",
    "    ]"
   ]
  },
  {
   "cell_type": "code",
   "execution_count": 27,
   "metadata": {},
   "outputs": [
    {
     "output_type": "stream",
     "name": "stdout",
     "text": [
      "Model: AdaBoostRegressor() RMLSE:0.5313463275867921\n",
      "Model: BaggingRegressor() RMLSE:0.22162481086245037\n",
      "Model: ExtraTreesRegressor() RMLSE:0.19353027471330614\n",
      "Model: GradientBoostingRegressor() RMLSE:0.20667271808917553\n",
      "Model: RandomForestRegressor() RMLSE:0.20513153279749088\n",
      "Model: GaussianProcessRegressor() RMLSE:8.094170182928355\n",
      "Model: LinearRegression() RMLSE:0.3436571830120668\n",
      "Model: PassiveAggressiveRegressor() RMLSE:0.7115644789967712\n",
      "Model: Ridge() RMLSE:0.3741962947516345\n",
      "Model: RidgeCV(alphas=array([ 0.1,  1. , 10. ])) RMLSE:0.3741935359068722\n",
      "Model: SGDRegressor() RMLSE:28.72916566422578\n",
      "Model: BayesianRidge() RMLSE:0.6878276870445276\n",
      "Model: KNeighborsRegressor() RMLSE:0.7049606457549185\n",
      "Model: DecisionTreeRegressor() RMLSE:0.2723127926261635\n",
      "Model: ExtraTreeRegressor() RMLSE:0.2947531283743806\n",
      "Model: XGBRegressor(base_score=0.5, booster='gbtree', colsample_bylevel=1,\n",
      "             colsample_bynode=1, colsample_bytree=1, gamma=0, gpu_id=-1,\n",
      "             importance_type='gain', interaction_constraints='',\n",
      "             learning_rate=0.300000012, max_delta_step=0, max_depth=6,\n",
      "             min_child_weight=1, missing=nan, monotone_constraints='()',\n",
      "             n_estimators=100, n_jobs=0, num_parallel_tree=1, random_state=0,\n",
      "             reg_alpha=0, reg_lambda=1, scale_pos_weight=1, subsample=1,\n",
      "             tree_method='exact', validate_parameters=1, verbosity=None) RMLSE:0.2235401301804623\n",
      "Model: LGBMRegressor() RMLSE:0.1959001287367946\n"
     ]
    }
   ],
   "source": [
    "for model in MLA:\n",
    "    results = model.fit(X_train,y_train)\n",
    "    predictions = results.predict(X_test)\n",
    "    data = {'y-test':y_test, 'predictions':predictions}\n",
    "    df = pd.DataFrame(data=data, columns=['y-test','predictions'])\n",
    "    df = df[df['predictions']>0]\n",
    "    score = RMSLE(df['y-test'], df['predictions'])\n",
    "    print('Model: {m} RMLSE:{r}'.format(m=model,r = score))\n"
   ]
  },
  {
   "cell_type": "code",
   "execution_count": 30,
   "metadata": {},
   "outputs": [],
   "source": [
    "features = ['Grade', 'Discount_avail',\n",
    "       'charges_1', 'charges_2 (%)', 'Minimum_price', 'Maximum_price',\n",
    "       'instock_year', 'Child_care', 'Cosmetics',\n",
    "       'Educational', 'Fashion', 'Home_decor', 'Hospitality', 'Organic',\n",
    "       'Pet_care', 'Repair', 'Technology']\n",
    "X = test_data[features]\n",
    "model = tree.ExtraTreeRegressor()\n",
    "results = model.fit(X_train,y_train)\n",
    "predictions_test = results.predict(X)\n",
    "test_data['Selling_Price'] = predictions_test\n",
    "data = {'Product_id':test_data['Product_id'], 'Selling_Price':test_data['Selling_Price']}\n",
    "submissions_df = pd.DataFrame(data= data, columns = ['Product_id', 'Selling_Price'])"
   ]
  },
  {
   "cell_type": "code",
   "execution_count": 31,
   "metadata": {},
   "outputs": [
    {
     "output_type": "execute_result",
     "data": {
      "text/plain": [
       "            Product_id  Selling_Price\n",
       "0     SCHE4YSTDVPVZVXW    3301.335975\n",
       "1     ACCEGCATKHNRXUHW    2037.744432\n",
       "2     NKCE6GJ5XVJDXNNZ   11450.571825\n",
       "3     NKCEB8BK3ZXDHDHM    9353.008875\n",
       "4     TOPEFDXSAHRNPF94    5560.473744\n",
       "...                ...            ...\n",
       "3425  BBAE9K7BXFUTDNBK    4073.908608\n",
       "3426  RTRDYPA4PJHCJCGF    9795.385728\n",
       "3427  TUNE8FWQBS7TVVT7    6572.862720\n",
       "3428  NKCEGMUABCRGUZPE    3789.041058\n",
       "3429  RNGE7M92KAQWUBCS     993.892680\n",
       "\n",
       "[3430 rows x 2 columns]"
      ],
      "text/html": "<div>\n<style scoped>\n    .dataframe tbody tr th:only-of-type {\n        vertical-align: middle;\n    }\n\n    .dataframe tbody tr th {\n        vertical-align: top;\n    }\n\n    .dataframe thead th {\n        text-align: right;\n    }\n</style>\n<table border=\"1\" class=\"dataframe\">\n  <thead>\n    <tr style=\"text-align: right;\">\n      <th></th>\n      <th>Product_id</th>\n      <th>Selling_Price</th>\n    </tr>\n  </thead>\n  <tbody>\n    <tr>\n      <th>0</th>\n      <td>SCHE4YSTDVPVZVXW</td>\n      <td>3301.335975</td>\n    </tr>\n    <tr>\n      <th>1</th>\n      <td>ACCEGCATKHNRXUHW</td>\n      <td>2037.744432</td>\n    </tr>\n    <tr>\n      <th>2</th>\n      <td>NKCE6GJ5XVJDXNNZ</td>\n      <td>11450.571825</td>\n    </tr>\n    <tr>\n      <th>3</th>\n      <td>NKCEB8BK3ZXDHDHM</td>\n      <td>9353.008875</td>\n    </tr>\n    <tr>\n      <th>4</th>\n      <td>TOPEFDXSAHRNPF94</td>\n      <td>5560.473744</td>\n    </tr>\n    <tr>\n      <th>...</th>\n      <td>...</td>\n      <td>...</td>\n    </tr>\n    <tr>\n      <th>3425</th>\n      <td>BBAE9K7BXFUTDNBK</td>\n      <td>4073.908608</td>\n    </tr>\n    <tr>\n      <th>3426</th>\n      <td>RTRDYPA4PJHCJCGF</td>\n      <td>9795.385728</td>\n    </tr>\n    <tr>\n      <th>3427</th>\n      <td>TUNE8FWQBS7TVVT7</td>\n      <td>6572.862720</td>\n    </tr>\n    <tr>\n      <th>3428</th>\n      <td>NKCEGMUABCRGUZPE</td>\n      <td>3789.041058</td>\n    </tr>\n    <tr>\n      <th>3429</th>\n      <td>RNGE7M92KAQWUBCS</td>\n      <td>993.892680</td>\n    </tr>\n  </tbody>\n</table>\n<p>3430 rows × 2 columns</p>\n</div>"
     },
     "metadata": {},
     "execution_count": 31
    }
   ],
   "source": [
    "submissions_df"
   ]
  },
  {
   "cell_type": "code",
   "execution_count": 32,
   "metadata": {},
   "outputs": [],
   "source": [
    "submissions_df.to_csv(path_or_buf='/Users/username/Desktop/price-pred/submission.csv')"
   ]
  },
  {
   "cell_type": "code",
   "execution_count": null,
   "metadata": {},
   "outputs": [],
   "source": []
  }
 ]
}